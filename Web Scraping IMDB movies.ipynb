{
 "cells": [
  {
   "cell_type": "markdown",
   "id": "b5397d76",
   "metadata": {},
   "source": [
    "# Scraping from the IMDB site Top 1000 movies"
   ]
  },
  {
   "cell_type": "code",
   "execution_count": 1,
   "id": "308c0eb4",
   "metadata": {},
   "outputs": [],
   "source": [
    "import pandas as pd\n",
    "import numpy as np\n",
    "import requests\n",
    "from bs4 import BeautifulSoup\n",
    "from time import sleep\n",
    "from random import randint"
   ]
  },
  {
   "cell_type": "markdown",
   "id": "1b498f5e",
   "metadata": {},
   "source": [
    "### Declaring the headers "
   ]
  },
  {
   "cell_type": "code",
   "execution_count": 2,
   "id": "a677e7a4",
   "metadata": {},
   "outputs": [],
   "source": [
    "headers = {\"Accept-Language\": \"en-US,en;q=0.5\"}"
   ]
  },
  {
   "cell_type": "markdown",
   "id": "a97f9f2f",
   "metadata": {},
   "source": [
    "### Declaring the list of empty variables, So that we can append the data overall"
   ]
  },
  {
   "cell_type": "code",
   "execution_count": 3,
   "id": "42f2270e",
   "metadata": {},
   "outputs": [],
   "source": [
    "movie_name = []\n",
    "year = []\n",
    "time=[]\n",
    "rating=[]\n",
    "metascore =[]\n",
    "votes = []\n",
    "gross = []\n",
    "description = []"
   ]
  },
  {
   "cell_type": "markdown",
   "id": "dfba6df2",
   "metadata": {},
   "source": [
    "### Creating an array of values and passing it in the url for dynamic webpages"
   ]
  },
  {
   "cell_type": "code",
   "execution_count": 4,
   "id": "7efb6718",
   "metadata": {},
   "outputs": [],
   "source": [
    "pages = np.arange(1,1000,100)"
   ]
  },
  {
   "cell_type": "code",
   "execution_count": null,
   "id": "a4f296b2",
   "metadata": {},
   "outputs": [],
   "source": [
    "for page in pages:\n",
    "    page = requests.get(\"https://www.imdb.com/search/title/?groups=top_1000&sort=user_rating,desc&count=100&start=\"+str(page)+\"&ref_=adv_nxt\")\n",
    "    soup = BeautifulSoup(page.text, 'html.parser')\n",
    "    movie_data = soup.findAll('div', attrs = {'class': 'lister-item mode-advanced'})\n",
    "    sleep(randint(2,8))\n",
    "    for store in movie_data:\n",
    "        name = store.h3.a.text\n",
    "        movie_name.append(name)\n",
    "        \n",
    "        year_of_release = store.h3.find('span', class_ = \"lister-item-year text-muted unbold\").text\n",
    "        year.append(year_of_release)\n",
    "        \n",
    "        runtime = store.p.find(\"span\", class_ = 'runtime').text\n",
    "        time.append(runtime)\n",
    "        \n",
    "        rate = store.find('div', class_ = \"inline-block ratings-imdb-rating\").text.replace('\\n', '')\n",
    "        rating.append(rate)\n",
    "        \n",
    "        meta = store.find('span', class_ = \"metascore\").text if store.find('span', class_ = \"metascore\") else \"N/A\"\n",
    "        metascore.append(meta)\n",
    "        \n",
    "        \n",
    "        value = store.find_all('span', attrs = {'name': \"nv\"})\n",
    "        \n",
    "        vote = value[0].text\n",
    "        votes.append(vote)\n",
    "        \n",
    "        grosses = value[1].text if len(value)>1 else 'N/A'\n",
    "        gross.append(grosses)\n",
    "        \n",
    "       \n",
    "        describe = store.find_all('p', class_ = 'text-muted')\n",
    "        description_ = describe[1].text.replace('\\n', '') if len(describe) >1 else 'N/A'\n",
    "        description.append(description_)"
   ]
  },
  {
   "cell_type": "markdown",
   "id": "cc0a125d",
   "metadata": {},
   "source": [
    "### creating a dataframe "
   ]
  },
  {
   "cell_type": "code",
   "execution_count": null,
   "id": "b3f88eaa",
   "metadata": {},
   "outputs": [],
   "source": [
    "movie_list = pd.DataFrame({ \"Movie Name\": movie_name, \"Year of Release\" : year, \"Watch Time\": time,\"Movie Rating\": rating, \"Meatscore of movie\": metascore, \"Votes\" : votes, \"Gross\": gross, \"Description\":description})"
   ]
  },
  {
   "cell_type": "code",
   "execution_count": null,
   "id": "23367c99",
   "metadata": {},
   "outputs": [],
   "source": [
    "movie_list.head(10)"
   ]
  }
 ],
 "metadata": {
  "kernelspec": {
   "display_name": "Python 3",
   "language": "python",
   "name": "python3"
  },
  "language_info": {
   "codemirror_mode": {
    "name": "ipython",
    "version": 3
   },
   "file_extension": ".py",
   "mimetype": "text/x-python",
   "name": "python",
   "nbconvert_exporter": "python",
   "pygments_lexer": "ipython3",
   "version": "3.8.8"
  }
 },
 "nbformat": 4,
 "nbformat_minor": 5
}
